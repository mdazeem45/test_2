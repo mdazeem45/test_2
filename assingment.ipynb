{
 "cells": [
  {
   "cell_type": "code",
   "execution_count": 2,
   "id": "fe4ca677-5432-42b1-afc6-946f307c14ef",
   "metadata": {},
   "outputs": [],
   "source": [
    "#q1.\n",
    "my_variable = \"Hello, world!\"  # string\n",
    "my_list = [1, 2, 3, 4]  # list\n",
    "my_float = 3.14  # float\n",
    "my_tuple = ('apple', 'banana', 'orange')  # tuple\n"
   ]
  },
  {
   "cell_type": "code",
   "execution_count": null,
   "id": "6bd4ec2c-0546-4e32-b84c-0f122cc5a0d3",
   "metadata": {},
   "outputs": [],
   "source": [
    " #q2)The data types of the given variables are:\n",
    "\n",
    "(i) var1 is a string data type.\n",
    "\n",
    "(ii) var2 is also a string data type. It contains a comma-separated list of strings enclosed in square brackets, which is a common way to represent a list as a string.\n",
    "\n",
    "(iii) var3 is a list data type. It contains three strings 'DS', 'ML', and 'Python' enclosed in square brackets.\n",
    "\n",
    "(iv) var4 is a float data type. It contains the floating-point number 1.0."
   ]
  },
  {
   "cell_type": "code",
   "execution_count": null,
   "id": "a97f9693-fe5c-42c2-b02c-740a15bd5410",
   "metadata": {},
   "outputs": [],
   "source": [
    "#q3.\n",
    "i) /: The / operator is used for division operation. It returns the quotient of the division in the form of a floating-point number. For example, 5/2 will return 2.5.\n",
    "\n",
    "(ii) %: The % operator is used for modulus operation. It returns the remainder of the division operation. For example, 5%2 will return 1.\n",
    "\n",
    "(iii) //: The // operator is used for floor division operation. It returns the quotient of the division operation in the form of an integer, discarding any decimal part. For example, 5//2 will return 2.\n",
    "\n",
    "(iv) **: The ** operator is used for exponentiation operation. It returns the result of raising the first operand to the power of the second operand. For example, 2**3 will return 8."
   ]
  },
  {
   "cell_type": "code",
   "execution_count": 4,
   "id": "2e7d2760-a12f-4a1e-a6ca-696f97e5fc65",
   "metadata": {},
   "outputs": [
    {
     "name": "stdout",
     "output_type": "stream",
     "text": [
      "Element: 1   Data type: <class 'int'>\n",
      "Element: 2.0   Data type: <class 'float'>\n",
      "Element: three   Data type: <class 'str'>\n",
      "Element: True   Data type: <class 'bool'>\n",
      "Element: [4, 5]   Data type: <class 'list'>\n",
      "Element: {'six': 6}   Data type: <class 'dict'>\n",
      "Element: 7   Data type: <class 'int'>\n",
      "Element: None   Data type: <class 'NoneType'>\n",
      "Element: (8, 9)   Data type: <class 'tuple'>\n",
      "Element: {'ten'}   Data type: <class 'set'>\n"
     ]
    }
   ],
   "source": [
    "#q4.\n",
    "my_list = [1, 2.0, 'three', True, [4, 5], {'six': 6}, 7, None, (8, 9), {'ten'}]\n",
    "\n",
    "for element in my_list:\n",
    "    print(\"Element:\", element, \"  Data type:\", type(element))\n"
   ]
  },
  {
   "cell_type": "code",
   "execution_count": null,
   "id": "de12386d-9db4-43f4-ba98-5b56dc1062ee",
   "metadata": {},
   "outputs": [],
   "source": [
    "#q5.\n",
    "A = int(input(\"Enter number A: \"))\n",
    "B = int(input(\"Enter number B: \"))\n",
    "count = 0\n",
    "\n",
    "while A % B == 0:\n",
    "    A = A / B\n",
    "    count += 1\n",
    "if count > 0:\n",
    "    print(\"Number A is purely divisible by B for\", count, \"times.\")\n",
    "else:\n",
    "    print(\"Number A is not purely divisible by B.\")\n"
   ]
  },
  {
   "cell_type": "code",
   "execution_count": null,
   "id": "ac8b24c4-5293-44a3-8165-36f2331e9167",
   "metadata": {},
   "outputs": [],
   "source": [
    "#q6.\n",
    "my_list = [1, 2, 3, 4, 5, 6, 7, 8, 9, 10,\n",
    "           11, 12, 13, 14, 15, 16, 17, 18, 19, 20,\n",
    "           21, 22, 23, 24, 25]\n",
    "\n",
    "for element in my_list:\n",
    "    if element % 3 == 0:\n",
    "        print(element, \"is divisible by 3\")\n",
    "    else:\n",
    "        print(element, \"is not divisible by 3\")\n"
   ]
  },
  {
   "cell_type": "code",
   "execution_count": null,
   "id": "a46a6d61-28c8-45b5-b199-7fe9e0cd5736",
   "metadata": {},
   "outputs": [],
   "source": [
    "#q7.\n"
   ]
  }
 ],
 "metadata": {
  "kernelspec": {
   "display_name": "Python 3 (ipykernel)",
   "language": "python",
   "name": "python3"
  },
  "language_info": {
   "codemirror_mode": {
    "name": "ipython",
    "version": 3
   },
   "file_extension": ".py",
   "mimetype": "text/x-python",
   "name": "python",
   "nbconvert_exporter": "python",
   "pygments_lexer": "ipython3",
   "version": "3.10.8"
  }
 },
 "nbformat": 4,
 "nbformat_minor": 5
}
